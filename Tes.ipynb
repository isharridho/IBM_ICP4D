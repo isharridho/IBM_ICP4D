{
 "cells": [
  {
   "cell_type": "code",
   "execution_count": 1,
   "id": "1c7d5df0-b023-43b0-bd0c-72ed30a82b3a",
   "metadata": {
    "id": "1edbce93-2d46-453a-986f-63272e9c57d3"
   },
   "outputs": [],
   "source": [
    "import pandas as pd"
   ]
  },
  {
   "cell_type": "code",
   "execution_count": null,
   "id": "a69cbd18-a68d-4086-981a-22b8ffc5bab7",
   "metadata": {
    "id": "a69cbd18-a68d-4086-981a-22b8ffc5bab7"
   },
   "outputs": [],
   "source": []
  }
 ],
 "metadata": {
  "kernelspec": {
   "display_name": "Python 3.11",
   "language": "python",
   "name": "python3"
  },
  "language_info": {
   "codemirror_mode": {
    "name": "ipython",
    "version": 3
   },
   "file_extension": ".py",
   "mimetype": "text/x-python",
   "name": "python",
   "nbconvert_exporter": "python",
   "pygments_lexer": "ipython3",
   "version": "3.11.9"
  }
 },
 "nbformat": 4,
 "nbformat_minor": 5
}
